{
 "cells": [
  {
   "cell_type": "code",
   "execution_count": 2,
   "metadata": {},
   "outputs": [],
   "source": [
    "import torch\n",
    "import torch.autograd as autograd\n",
    "import torch.nn as nn\n",
    "import torch.nn.functional as F\n",
    "import torch.optim as optim\n",
    "import torch.nn.utils as utils\n",
    "from torch.autograd import Variable"
   ]
  },
  {
   "attachments": {},
   "cell_type": "markdown",
   "metadata": {},
   "source": [
    "# initialize"
   ]
  },
  {
   "cell_type": "code",
   "execution_count": 3,
   "metadata": {},
   "outputs": [],
   "source": [
    "def init_weights(m):\n",
    "    if isinstance(m, nn.Linear):\n",
    "        torch.nn.init.xavier_uniform_(m.weight)\n",
    "\n",
    "class Network(nn.Module):\n",
    "\n",
    "    def __init__(self, input_layer,output_layer):\n",
    "        super(Network, self).__init__()\n",
    "        \n",
    "        self.fc1 = nn.Linear(input_layer, output_layer,bias=False)\n",
    "        self.fc2=nn.Softmax(dim=1)\n",
    "\n",
    "    def forward(self, input_):\n",
    "        x=self.fc1(input_)\n",
    "        y=self.fc2(x)\n",
    "        return y\n"
   ]
  },
  {
   "cell_type": "code",
   "execution_count": 12,
   "metadata": {},
   "outputs": [
    {
     "data": {
      "text/plain": [
       "[1, 2]"
      ]
     },
     "execution_count": 12,
     "metadata": {},
     "output_type": "execute_result"
    }
   ],
   "source": [
    "A=[1,2,3]\n",
    "A[:len(A)-1]"
   ]
  },
  {
   "attachments": {},
   "cell_type": "markdown",
   "metadata": {},
   "source": [
    "# Testing"
   ]
  },
  {
   "cell_type": "code",
   "execution_count": 11,
   "metadata": {},
   "outputs": [
    {
     "name": "stdout",
     "output_type": "stream",
     "text": [
      "[Parameter containing:\n",
      "tensor([[-0.7020,  0.7679,  1.0571],\n",
      "        [-0.5849, -0.6459,  0.0908]], requires_grad=True)]\n",
      "[Parameter containing:\n",
      "tensor([[-0.7010,  0.7679,  1.0571],\n",
      "        [-0.5859, -0.6459,  0.0908]], requires_grad=True)]\n"
     ]
    }
   ],
   "source": [
    "# Dataset\n",
    "x_0=torch.tensor([[1,0,0]])\n",
    "y_0=torch.tensor([[2,1]])\n",
    "x_0=x_0.type(torch.FloatTensor)\n",
    "\n",
    "\n",
    "model=Network(3,2)\n",
    "model.apply(init_weights)\n",
    "\n",
    "optimizer=optim.Adam(model.parameters(), lr=1e-3)\n",
    "criterion=nn.MSELoss()\n",
    "\n",
    "print(list(model.fc1.parameters()))\n",
    "\n",
    "y_hat=model(x_0)\n",
    "loss=criterion(y_0.float(),y_hat)\n",
    "\n",
    "optimizer.zero_grad()\n",
    "loss.backward(retain_graph=True)\n",
    "utils.clip_grad_norm_(model.parameters(), 40)\n",
    "optimizer.step()\n",
    "\n",
    "print(list(model.fc1.parameters()))"
   ]
  }
 ],
 "metadata": {
  "kernelspec": {
   "display_name": "Python 3",
   "language": "python",
   "name": "python3"
  },
  "language_info": {
   "codemirror_mode": {
    "name": "ipython",
    "version": 3
   },
   "file_extension": ".py",
   "mimetype": "text/x-python",
   "name": "python",
   "nbconvert_exporter": "python",
   "pygments_lexer": "ipython3",
   "version": "3.10.6"
  },
  "orig_nbformat": 4,
  "vscode": {
   "interpreter": {
    "hash": "7e1998ff7f8aa20ada591c520b972326324e5ea05489af9e422744c7c09f6dad"
   }
  }
 },
 "nbformat": 4,
 "nbformat_minor": 2
}
