{
 "cells": [
  {
   "cell_type": "code",
   "execution_count": 12,
   "metadata": {},
   "outputs": [],
   "source": [
    "import torch\n",
    "import torch.autograd as autograd\n",
    "import torch.nn as nn\n",
    "import torch.nn.functional as F\n",
    "import torch.optim as optim\n",
    "import torch.nn.utils as utils\n",
    "from torch.autograd import Variable\n",
    "\n",
    "import math\n",
    "\n",
    "from blackhc.mdp import dsl\n",
    "from blackhc import mdp\n",
    "import time\n",
    "\n",
    "from blackhc.mdp import lp\n",
    "import functools\n",
    "import numpy as np\n",
    "\n",
    "from tqdm import tqdm\n",
    "from matplotlib import pyplot as plt\n"
   ]
  },
  {
   "attachments": {},
   "cell_type": "markdown",
   "metadata": {},
   "source": [
    "# Importance Sampling-based Agent"
   ]
  },
  {
   "cell_type": "code",
   "execution_count": 13,
   "metadata": {},
   "outputs": [],
   "source": [
    "# Follow SARSA format\n",
    "\n",
    "def cvt_axis(trajs):\n",
    "    t_states = []\n",
    "    t_actions = []\n",
    "    t_rewards = []\n",
    "    t_nstates = []\n",
    "    t_log_probs = []\n",
    "\n",
    "    for traj in trajs:\n",
    "        t_states.append(traj[0])\n",
    "        t_actions.append(traj[1])\n",
    "        t_rewards.append(traj[2])\n",
    "        t_nstates.append(traj[3])\n",
    "        t_log_probs.append(traj[4])\n",
    "\n",
    "    return (t_states, t_actions, t_rewards,t_states,t_log_probs)\n",
    "\n",
    "def reward_to_value(t_rewards, gamma):\n",
    "\n",
    "    t_Rs = []\n",
    "\n",
    "    for rewards in t_rewards:\n",
    "        Rs = []\n",
    "        R = torch.zeros(1, 1)\n",
    "\n",
    "        for i in reversed(range(len(rewards))):\n",
    "            R = gamma * R + rewards[i]\n",
    "            Rs.insert(0, R)\n",
    "        t_Rs.append(Rs)\n",
    "        \n",
    "    return(t_Rs)\n",
    "\n",
    "def init_weights(m):\n",
    "    if isinstance(m, nn.Linear):\n",
    "        torch.nn.init.xavier_uniform_(m.weight)\n",
    "\n",
    "\n",
    "\n",
    "class Network(nn.Module):\n",
    "\n",
    "    def __init__(self, input_layer,output_layer):\n",
    "        super(Network, self).__init__()\n",
    "        \n",
    "        self.fc1 = nn.Linear(input_layer, output_layer,bias=False)\n",
    "        self.fc2=nn.Softmax(dim=1)\n",
    "\n",
    "    def forward(self, input_):\n",
    "        x=self.fc1(input_)\n",
    "        y=self.fc2(x)\n",
    "        return y\n",
    "\n",
    "\n",
    "class Agent():\n",
    "\n",
    "    def __init__(self,observation_space, action_space):\n",
    "\n",
    "        self.model = Network(observation_space.n,action_space.n)\n",
    "        self.gamma = 0.99\n",
    "        self.optimizer = optim.Adam(self.model.parameters(), lr=1e-3)\n",
    "        self.model.train()\n",
    "\n",
    "\n",
    "    def action(self, state):\n",
    "        \n",
    "        probs = self.model(Variable(state))\n",
    "        action = probs.multinomial(1).data\n",
    "        prob = probs[:, action[0,0]].view(1, -1)\n",
    "        log_prob = prob.log()\n",
    "\n",
    "        return(action, log_prob)\n",
    "\n",
    "\n",
    "    def cal_log_prob(self, state, action):\n",
    "\n",
    "        probs = self.model(Variable(state))\n",
    "        prob = probs[:, action[0,0]].view(1, -1)\n",
    "        log_prob = prob.log()\n",
    "\n",
    "        return(log_prob)\n",
    "\n",
    "\n",
    "    def train_(self, trajs):\n",
    "        \n",
    "        t_states, t_actions, t_rewards,t_nstates,t_log_probs = cvt_axis(trajs)\n",
    "        t_Rs = reward_to_value(t_rewards, self.gamma)\n",
    "\n",
    "        Z = 0\n",
    "        b = 0\n",
    "        losses = []\n",
    "        Z_s = []\n",
    "\n",
    "        for (states, actions, Rs, log_probs) in zip(t_states, t_actions, t_Rs, t_log_probs):\n",
    "            p_log_prob = 0\n",
    "            q_log_prob = 0\n",
    "            for t in range(len(Rs)):\n",
    "                p_log_prob += (self.cal_log_prob(states[t], actions[t])).data.numpy()\n",
    "                q_log_prob += log_probs[t].data.numpy()\n",
    "            Z_ = math.exp(p_log_prob) / math.exp(q_log_prob)\n",
    "            Z += Z_\n",
    "            Z_s.append(Z_)\n",
    "            b += Z_ * sum(Rs) / len(Rs)\n",
    "        b = b / Z\n",
    "\n",
    "\n",
    "        for (states, actions, Rs, log_probs) in zip(t_states, t_actions, t_Rs, t_log_probs):\n",
    "            loss = 0.\n",
    "\n",
    "            for t in range(len(Rs)):\n",
    "                loss = loss - (log_probs[t] * (Variable(Rs[t] - b).expand_as(log_probs[t]))).sum()\n",
    "\n",
    "            Z_ = Z_s.pop(0)\n",
    "            loss = loss / Z_\n",
    "            losses.append(loss)\n",
    "            \n",
    "        loss = sum(losses) / Z\n",
    "\n",
    "        self.optimizer.zero_grad()\n",
    "        loss.backward(retain_graph=True)\n",
    "        utils.clip_grad_value_(self.model.parameters(),40)\n",
    "        self.optimizer.step()"
   ]
  },
  {
   "attachments": {},
   "cell_type": "markdown",
   "metadata": {},
   "source": [
    "# Defining MDP-following openai gym structure"
   ]
  },
  {
   "cell_type": "code",
   "execution_count": 14,
   "metadata": {},
   "outputs": [
    {
     "data": {
      "text/plain": [
       "array([[6.66666667, 2.22222222],\n",
       "       [2.22222222, 0.74074074],\n",
       "       [0.74074074, 0.33950617],\n",
       "       [0.33950617, 0.61728395],\n",
       "       [0.61728395, 1.85185185],\n",
       "       [1.85185185, 5.55555556],\n",
       "       [0.        , 0.        ]])"
      ]
     },
     "execution_count": 14,
     "metadata": {},
     "output_type": "execute_result"
    }
   ],
   "source": [
    "def  _multi_round_nmdp_simple():\n",
    "    with dsl.new() as mdp:\n",
    "        # Write down the MDP dynamics here \n",
    "        \n",
    "        start = dsl.state()\n",
    "        S_1=dsl.state()\n",
    "        end = dsl.terminal_state()\n",
    "        \n",
    "        A_0=dsl.action()\n",
    "        A_1=dsl.action()\n",
    "\n",
    "        start & A_0 > dsl.reward(0) | dsl.reward(0)\n",
    "        start & A_0 > start * 1 | S_1\n",
    "        start & A_1 > dsl.reward(0) | dsl.reward(5) | dsl.reward(0)\n",
    "        start & A_1 > start * 1 | end * 5 | S_1 * 1\n",
    "        \n",
    "        S_1 & A_0 > dsl.reward(0) | dsl.reward(0)\n",
    "        S_1 & A_0 > S_1 * 1 | start\n",
    "        S_1 & A_1 > dsl.reward(0) | dsl.reward(5)\n",
    "        S_1 & A_1 > start * 3 | end\n",
    "        \n",
    "        dsl.discount(0.5)\n",
    "\n",
    "        return mdp.validate()\n",
    "    \n",
    "def  _multi_round_nmdp_complex():\n",
    "    with dsl.new() as mdp:\n",
    "        # Write down the MDP dynamics here \n",
    "        \n",
    "        start = dsl.state()\n",
    "        S_1=dsl.state()\n",
    "        S_2=dsl.state()\n",
    "        S_3=dsl.state()\n",
    "        S_4=dsl.state()\n",
    "        S_5=dsl.state()\n",
    "        end = dsl.terminal_state()\n",
    "        \n",
    "        A_0=dsl.action()\n",
    "        A_1=dsl.action()\n",
    "\n",
    "        start & A_0 > dsl.reward(10) | dsl.reward(0)\n",
    "        start & A_0 > end * 1 | start\n",
    "        start & A_1 > dsl.reward(0) | dsl.reward(0)\n",
    "        start & A_1 > start * 1 | S_1\n",
    "        \n",
    "        S_1 & A_0 > dsl.reward(0) | dsl.reward(0)\n",
    "        S_1 & A_0 > S_1 * 1 | start\n",
    "        S_1 & A_1 > dsl.reward(0) | dsl.reward(0)\n",
    "        S_1 & A_1 > S_1 * 1 | S_2\n",
    "        \n",
    "        S_2 & A_0 > dsl.reward(0) | dsl.reward(0)\n",
    "        S_2 & A_0 > S_2 * 1 | S_1\n",
    "        S_2 & A_1 > dsl.reward(0) | dsl.reward(0)\n",
    "        S_2 & A_1 > S_2 * 1 | S_3\n",
    "        \n",
    "        S_3 & A_0 > dsl.reward(0) | dsl.reward(0)\n",
    "        S_3 & A_0 > S_3 * 1 | S_2\n",
    "        S_3 & A_1 > dsl.reward(0) | dsl.reward(0)\n",
    "        S_3 & A_1 > S_3 * 1 | S_4\n",
    "        \n",
    "        S_4 & A_0 > dsl.reward(0) | dsl.reward(0)\n",
    "        S_4 & A_0 > S_4 * 1 | S_3\n",
    "        S_4 & A_1 > dsl.reward(0) | dsl.reward(0)\n",
    "        S_4 & A_1 > S_4 * 1 | S_5\n",
    "        \n",
    "        S_5 & A_0 > dsl.reward(0) | dsl.reward(0)\n",
    "        S_5 & A_0 > S_5 * 1 | S_4\n",
    "        S_5 & A_1 > dsl.reward(10) | dsl.reward(0)\n",
    "        S_5 & A_1 > end * 1 | S_1\n",
    "        \n",
    "        dsl.discount(0.5)\n",
    "\n",
    "        return mdp.validate() \n",
    "\n",
    "MULTI_ROUND_NDMP = _multi_round_nmdp_complex()\n",
    "\n",
    "\n",
    "\n",
    "solver = lp.LinearProgramming(MULTI_ROUND_NDMP)\n",
    "solver.compute_q_table(max_iterations=10000, all_close=functools.partial(np.allclose, rtol=1e-10, atol=1e-10))\n",
    "# mdp.display_mdp(MULTI_ROUND_NDMP)\n"
   ]
  },
  {
   "cell_type": "code",
   "execution_count": 15,
   "metadata": {},
   "outputs": [],
   "source": [
    "env = MULTI_ROUND_NDMP.to_env()\n",
    "env.reset()\n",
    "A1=Agent(env.observation_space,env.action_space)\n"
   ]
  },
  {
   "cell_type": "code",
   "execution_count": 16,
   "metadata": {},
   "outputs": [],
   "source": [
    "def display_env():    \n",
    "    env.render()\n",
    "    env.render_widget.width=500\n",
    "    time.sleep(0.200)"
   ]
  },
  {
   "attachments": {},
   "cell_type": "markdown",
   "metadata": {},
   "source": [
    "# Graphical-representation of the MDP "
   ]
  },
  {
   "cell_type": "code",
   "execution_count": 17,
   "metadata": {},
   "outputs": [
    {
     "data": {
      "application/vnd.jupyter.widget-view+json": {
       "model_id": "f7efde90f6884788875032bb5bc9b6dc",
       "version_major": 2,
       "version_minor": 0
      },
      "text/plain": [
       "Image(value=b'')"
      ]
     },
     "metadata": {},
     "output_type": "display_data"
    }
   ],
   "source": [
    "display_env()"
   ]
  },
  {
   "cell_type": "code",
   "execution_count": 22,
   "metadata": {},
   "outputs": [],
   "source": [
    "num_of_epochs=500\n",
    "horizon_len=40"
   ]
  },
  {
   "attachments": {},
   "cell_type": "markdown",
   "metadata": {},
   "source": [
    "# Off-policy policy gradient "
   ]
  },
  {
   "cell_type": "code",
   "execution_count": 23,
   "metadata": {},
   "outputs": [
    {
     "name": "stdout",
     "output_type": "stream",
     "text": [
      "Model parameters before the training:\n",
      "\n",
      "[Parameter containing:\n",
      "tensor([[ 0.4001,  0.1399, -0.0798,  0.1427, -0.1211,  0.1445, -0.0172],\n",
      "        [-0.3128,  0.1363,  0.1704, -0.0851,  0.5482, -0.1539, -0.2993]],\n",
      "       requires_grad=True)]\n"
     ]
    },
    {
     "name": "stderr",
     "output_type": "stream",
     "text": [
      " 90%|█████████ | 451/500 [18:23<02:21,  2.89s/it]"
     ]
    }
   ],
   "source": [
    "# A1.model\n",
    "print(\"Model parameters before the training:\\n\")\n",
    "init_weights(A1.model)\n",
    "env.reset()\n",
    "print(list(A1.model.fc1.parameters()))\n",
    "\n",
    "s_t_index=env._state.index\n",
    "s_t=F.one_hot(torch.tensor(s_t_index),num_classes=env.observation_space.n).unsqueeze(dim=0)\n",
    "s_t=s_t.type(torch.FloatTensor)\n",
    "\n",
    "trajs=[]\n",
    "result=[]\n",
    "\n",
    "\n",
    "for traj_id in tqdm(range(num_of_epochs)):\n",
    "    env.reset()\n",
    "    # display_env()\n",
    "    s_t_index=env._state.index\n",
    "    \n",
    "    states=[]\n",
    "    log_probs=[]\n",
    "    rewards=[]\n",
    "    actions=[]\n",
    "    nstates=[]\n",
    "    \n",
    "    for t in range(horizon_len):\n",
    "        s_t=F.one_hot(torch.tensor(s_t_index),num_classes=env.observation_space.n).unsqueeze(dim=0)\n",
    "        s_t=s_t.type(torch.FloatTensor)\n",
    "        a_t, log_prob = A1.action(s_t)\n",
    "        ns_t, r_t, done, _ = env.step(a_t.numpy()[0][0])\n",
    "        # print(env._state.name)\n",
    "        # display_env()\n",
    "        if t!=0:\n",
    "            nstates.append(s_t)\n",
    "        states.append(s_t)\n",
    "        actions.append(a_t)\n",
    "        log_probs.append(log_prob)\n",
    "        rewards.append(r_t)\n",
    "        s_t_index=ns_t\n",
    "        if done:\n",
    "            break\n",
    "    time.sleep(2)\n",
    "    s_t=F.one_hot(torch.tensor(s_t_index),num_classes=env.observation_space.n).unsqueeze(dim=0)\n",
    "    s_t=s_t.type(torch.FloatTensor)\n",
    "    nstates.append(s_t)\n",
    "    \n",
    "\n",
    "    trajs.append((states, actions, rewards,nstates, log_probs))\n",
    "    A1.train_(trajs)\n",
    "    # print(\"\\n\")\n",
    "    # print(states)\n",
    "    # print(actions)\n",
    "    # print(rewards)\n",
    "    # print(nstates)\n",
    "    # print(\"Episode: {}, reward: {}\".format(traj_id, sum(rewards)))\n",
    "    result.append(sum(rewards))\n",
    "    \n",
    "print(\"Model parameters after the training:\\n\")\n",
    "print(list(A1.model.fc1.parameters()))\n"
   ]
  },
  {
   "cell_type": "code",
   "execution_count": 20,
   "metadata": {},
   "outputs": [
    {
     "data": {
      "text/plain": [
       "array([[6.66666667, 2.22222222],\n",
       "       [2.22222222, 0.74074074],\n",
       "       [0.74074074, 0.33950617],\n",
       "       [0.33950617, 0.61728395],\n",
       "       [0.61728395, 1.85185185],\n",
       "       [1.85185185, 5.55555556],\n",
       "       [0.        , 0.        ]])"
      ]
     },
     "execution_count": 20,
     "metadata": {},
     "output_type": "execute_result"
    }
   ],
   "source": [
    "solver.compute_q_table(max_iterations=10000, all_close=functools.partial(np.allclose, rtol=1e-10, atol=1e-10))"
   ]
  },
  {
   "attachments": {},
   "cell_type": "markdown",
   "metadata": {},
   "source": [
    "# plotting episodes vs rewards"
   ]
  },
  {
   "cell_type": "code",
   "execution_count": 21,
   "metadata": {},
   "outputs": [
    {
     "data": {
      "image/png": "[encoded data removed]",
      "text/plain": [
       "<Figure size 640x480 with 1 Axes>"
      ]
     },
     "metadata": {},
     "output_type": "display_data"
    }
   ],
   "source": [
    "plt.plot(range(len(result)), result)\n",
    "plt.ylabel('reward')\n",
    "plt.xlabel('episodes')\n",
    "plt.grid(True)\n",
    "plt.show()\n",
    "\n",
    "env.close()"
   ]
  }
 ],
 "metadata": {
  "kernelspec": {
   "display_name": "Python 3",
   "language": "python",
   "name": "python3"
  },
  "language_info": {
   "codemirror_mode": {
    "name": "ipython",
    "version": 3
   },
   "file_extension": ".py",
   "mimetype": "text/x-python",
   "name": "python",
   "nbconvert_exporter": "python",
   "pygments_lexer": "ipython3",
   "version": "3.10.6"
  },
  "orig_nbformat": 4,
  "vscode": {
   "interpreter": {
    "hash": "7e1998ff7f8aa20ada591c520b972326324e5ea05489af9e422744c7c09f6dad"
   }
  }
 },
 "nbformat": 4,
 "nbformat_minor": 2
}
